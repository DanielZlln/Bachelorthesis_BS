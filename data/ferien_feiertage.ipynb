{
 "cells": [
  {
   "cell_type": "code",
   "execution_count": 2,
   "metadata": {},
   "outputs": [
    {
     "name": "stdout",
     "output_type": "stream",
     "text": [
      "[['SoSe 2011', '01.04.2011', '04.04.2011', '14.06.2011', '18.06.2011', '15.07.2011', '30.09.2011'], ['WiSe 2011/12', '01.10.2011', '10.10.2011', '27.12.2011', '06.01.2012', '03.02.2012', '31.03.2012'], ['SoSe 2012', '01.04.2012', '02.04.2012', '29.05.2012', '02.06.2012', '13.07.2012', '30.09.2012'], ['WiSe 2012/13', '01.10.2012', '08.10.2012', '24.12.2012', '04.01.2013', '01.02.2013', '31.03.2013'], ['SoSe 2013', '01.04.2013', '08.04.2013', '21.05.2013', '25.05.2013', '19.07.2013', '30.09.2013'], ['WiSe 2013/14', '01.10.2013', '14.10.2013', '23.12.2013', '03.01.2014', '07.02.2014', '31.03.2014'], ['SoSe 2014', '01.04.2014', '07.04.2014', '10.06.2014', '14.06.2014', '18.07.2014', '30.09.2014'], ['WiSe 2014/15', '01.10.2014', '06.10.2014', '22.12.2014', '02.01.2015', '06.02.2015', '31.03.2015'], ['SoSe 2015', '01.04.2015', '07.04.2015', '26.05.2015', '29.05.2015', '17.07.2015', '30.09.2015'], ['WiSe 2015/16', '01.10.2015', '19.10.2015', '23.12.2015', '06.01.2016', '12.02.2016', '31.03.2016'], ['SoSe 2016', '01.04.2016', '11.04.2016', '17.05.2016', '20.05.2016', '22.07.2016', '30.09.2016'], ['WiSe 2016/17', '01.10.2016', '17.10.2016', '23.12.2016', '06.01.2017', '10.02.2017', '31.03.2017'], ['SoSe 2017', '01.04.2017', '18.04.2017', '06.06.2017', '09.06.2017', '28.07.2017', '30.09.2017'], ['WiSe 2017/18', '01.10.2017', '09.10.2017', '27.12.2017', '05.01.2018', '02.02.2018', '31.03.2018'], ['SoSe 2018', '01.04.2018', '09.04.2018', '22.05.2018', '25.05.2018', '20.07.2018', '30.09.2018'], ['WiSe 2018/19', '01.10.2018', '08.10.2018', '21.12.2018', '04.01.2019', '01.02.2019', '31.03.2019'], ['SoSe 2019', '01.04.2019', '01.04.2019', '11.06.2019', '14.06.2019', '12.07.2019', '30.09.2019'], ['WiSe 2019/20', '01.10.2019', '07.10.2019', '23.12.2019', '06.01.2020', '31.01.2020', '31.03.2020'], ['SoSe 2020', '01.04.2020', '20.04.2020', '02.06.2020', '05.06.2020', '17.07.2020', '30.09.2020'], ['WiSe 2020/21', '01.10.2020', '02.11.2020', '23.12.2020', '06.01.2021', '12.02.2021', '31.03.2021'], ['SoSe 2021', '01.04.2021', '12.04.2021', '25.05.2021', '28.05.2021', '23.07.2021', '30.09.2021'], ['WiSe 2021/22', '01.10.2021', '11.10.2021', '24.12.2021', '07.01.2022', '04.02.2022', '31.03.2022'], ['SoSe 2022', '01.04.2022', '04.04.2022', '07.06.2022', '10.06.2022', '15.07.2022', '30.09.2022'], ['WiSe 2022/23', '01.10.2022', '10.10.2022', '23.12.2022', '06.01.2023', '03.02.2023', '31.03.2023'], ['SoSe 2023', '01.04.2023', '03.04.2023', '30.05.2023', '02.06.2023', '14.07.2023', '30.09.2023'], ['WiSe 2023/24', '01.10.2023', '09.10.2023', '21.12.2023', '05.01.2024', '02.02.2024', '31.03.2024']]\n"
     ]
    }
   ],
   "source": [
    "import requests\n",
    "from bs4 import BeautifulSoup\n",
    "\n",
    "url = 'https://www.uni-muenster.de/studium/orga/termine_archiv.html'\n",
    "response = requests.get(url)\n",
    "\n",
    "soup = BeautifulSoup(response.text, 'html.parser')\n",
    "\n",
    "ferien_datum = soup.find(\"tbody\", class_=\"tab4\")\n",
    "table_rows = ferien_datum.find_all(\"tr\")\n",
    "\n",
    "data = []\n",
    "\n",
    "for row in table_rows:\n",
    "    columns = row.find_all(\"td\")\n",
    "    row_data = [column.get_text(strip=True) for column in columns]\n",
    "    data.append(row_data)\n",
    "\n",
    "print(data)\n"
   ]
  },
  {
   "cell_type": "code",
   "execution_count": 5,
   "metadata": {},
   "outputs": [],
   "source": [
    "import pandas as pd\n",
    "import requests\n",
    "from bs4 import BeautifulSoup\n",
    "\n",
    "url = 'https://www.uni-muenster.de/studium/orga/termine_archiv.html'\n",
    "response = requests.get(url)\n",
    "\n",
    "soup = BeautifulSoup(response.text, 'html.parser')\n",
    "\n",
    "ferien_datum = soup.find(\"tbody\", class_=\"tab4\")\n",
    "table_rows = ferien_datum.find_all(\"tr\")\n",
    "\n",
    "data = []\n",
    "\n",
    "for row in table_rows:\n",
    "    columns = row.find_all(\"td\")\n",
    "    row_data = [column.get_text(strip=True) for column in columns]\n",
    "    data.append(row_data)\n",
    "\n",
    "df_semesterferien = pd.DataFrame({'ferien': data})\n",
    "\n",
    "column_names = ['semester', 'semester_beginn', 'vorlesungsbeginn', 'erster_ferientag', \n",
    "                'letzter_ferientag', 'vorlesungsende', 'semesterende']\n",
    "\n",
    "df_semesterferien[column_names] = pd.DataFrame(df_semesterferien['ferien'].tolist(), columns=column_names)\n",
    "\n",
    "date_columns = ['semester_beginn', 'vorlesungsbeginn', 'erster_ferientag', \n",
    "                'letzter_ferientag', 'vorlesungsende', 'semesterende']\n",
    "for col in date_columns:\n",
    "    df_semesterferien[col] = pd.to_datetime(df_semesterferien[col], format='%d.%m.%Y')\n",
    "\n",
    "df_semesterferien.drop('ferien', axis=1, inplace=True)\n",
    "\n",
    "df_semesterferien.to_csv('semesterferien.csv', index=False)"
   ]
  },
  {
   "cell_type": "code",
   "execution_count": 6,
   "metadata": {},
   "outputs": [
    {
     "name": "stdout",
     "output_type": "stream",
     "text": [
      "          Semester       Datum\n",
      "0        SoSe 2011  2011-04-04\n",
      "1        SoSe 2011  2011-04-05\n",
      "2        SoSe 2011  2011-04-06\n",
      "3        SoSe 2011  2011-04-07\n",
      "4        SoSe 2011  2011-04-08\n",
      "...            ...         ...\n",
      "2832  WiSe 2023/24  2024-01-29\n",
      "2833  WiSe 2023/24  2024-01-30\n",
      "2834  WiSe 2023/24  2024-01-31\n",
      "2835  WiSe 2023/24  2024-02-01\n",
      "2836  WiSe 2023/24  2024-02-02\n",
      "\n",
      "[2837 rows x 2 columns]\n"
     ]
    }
   ],
   "source": [
    "import pandas as pd\n",
    "\n",
    "csv_file = 'semesterferien.csv'\n",
    "\n",
    "df = pd.read_csv(csv_file)\n",
    "\n",
    "data = []\n",
    "\n",
    "for index, row in df.iterrows():\n",
    "    semester = row['semester']\n",
    "    semester_beginn = pd.to_datetime(row['semester_beginn'])\n",
    "    vorlesungsbeginn = pd.to_datetime(row['vorlesungsbeginn'])\n",
    "    erster_ferientag = pd.to_datetime(row['erster_ferientag'])\n",
    "    letzter_ferientag = pd.to_datetime(row['letzter_ferientag'])\n",
    "    vorlesungsende = pd.to_datetime(row['vorlesungsende'])\n",
    "    semesterende = pd.to_datetime(row['semesterende'])\n",
    "    \n",
    "    current_date = vorlesungsbeginn\n",
    "    while current_date <= vorlesungsende:\n",
    "        data.append({'Semester': semester, 'Datum': current_date.date()})\n",
    "        current_date += pd.DateOffset(days=1)\n",
    "\n",
    "result_df = pd.DataFrame(data)\n",
    "\n",
    "print(result_df)"
   ]
  },
  {
   "cell_type": "code",
   "execution_count": 7,
   "metadata": {},
   "outputs": [
    {
     "data": {
      "text/html": [
       "<div>\n",
       "<style scoped>\n",
       "    .dataframe tbody tr th:only-of-type {\n",
       "        vertical-align: middle;\n",
       "    }\n",
       "\n",
       "    .dataframe tbody tr th {\n",
       "        vertical-align: top;\n",
       "    }\n",
       "\n",
       "    .dataframe thead th {\n",
       "        text-align: right;\n",
       "    }\n",
       "</style>\n",
       "<table border=\"1\" class=\"dataframe\">\n",
       "  <thead>\n",
       "    <tr style=\"text-align: right;\">\n",
       "      <th></th>\n",
       "      <th>Semester</th>\n",
       "      <th>Datum</th>\n",
       "    </tr>\n",
       "  </thead>\n",
       "  <tbody>\n",
       "    <tr>\n",
       "      <th>0</th>\n",
       "      <td>SoSe 2011</td>\n",
       "      <td>2011-04-04</td>\n",
       "    </tr>\n",
       "    <tr>\n",
       "      <th>1</th>\n",
       "      <td>SoSe 2011</td>\n",
       "      <td>2011-04-05</td>\n",
       "    </tr>\n",
       "    <tr>\n",
       "      <th>2</th>\n",
       "      <td>SoSe 2011</td>\n",
       "      <td>2011-04-06</td>\n",
       "    </tr>\n",
       "    <tr>\n",
       "      <th>3</th>\n",
       "      <td>SoSe 2011</td>\n",
       "      <td>2011-04-07</td>\n",
       "    </tr>\n",
       "    <tr>\n",
       "      <th>4</th>\n",
       "      <td>SoSe 2011</td>\n",
       "      <td>2011-04-08</td>\n",
       "    </tr>\n",
       "    <tr>\n",
       "      <th>...</th>\n",
       "      <td>...</td>\n",
       "      <td>...</td>\n",
       "    </tr>\n",
       "    <tr>\n",
       "      <th>2832</th>\n",
       "      <td>WiSe 2023/24</td>\n",
       "      <td>2024-01-29</td>\n",
       "    </tr>\n",
       "    <tr>\n",
       "      <th>2833</th>\n",
       "      <td>WiSe 2023/24</td>\n",
       "      <td>2024-01-30</td>\n",
       "    </tr>\n",
       "    <tr>\n",
       "      <th>2834</th>\n",
       "      <td>WiSe 2023/24</td>\n",
       "      <td>2024-01-31</td>\n",
       "    </tr>\n",
       "    <tr>\n",
       "      <th>2835</th>\n",
       "      <td>WiSe 2023/24</td>\n",
       "      <td>2024-02-01</td>\n",
       "    </tr>\n",
       "    <tr>\n",
       "      <th>2836</th>\n",
       "      <td>WiSe 2023/24</td>\n",
       "      <td>2024-02-02</td>\n",
       "    </tr>\n",
       "  </tbody>\n",
       "</table>\n",
       "<p>2837 rows × 2 columns</p>\n",
       "</div>"
      ],
      "text/plain": [
       "          Semester       Datum\n",
       "0        SoSe 2011  2011-04-04\n",
       "1        SoSe 2011  2011-04-05\n",
       "2        SoSe 2011  2011-04-06\n",
       "3        SoSe 2011  2011-04-07\n",
       "4        SoSe 2011  2011-04-08\n",
       "...            ...         ...\n",
       "2832  WiSe 2023/24  2024-01-29\n",
       "2833  WiSe 2023/24  2024-01-30\n",
       "2834  WiSe 2023/24  2024-01-31\n",
       "2835  WiSe 2023/24  2024-02-01\n",
       "2836  WiSe 2023/24  2024-02-02\n",
       "\n",
       "[2837 rows x 2 columns]"
      ]
     },
     "execution_count": 7,
     "metadata": {},
     "output_type": "execute_result"
    }
   ],
   "source": [
    "result_df['Datum'] = pd.to_datetime(result_df['Datum']).dt.date\n",
    "result_df"
   ]
  },
  {
   "cell_type": "code",
   "execution_count": 13,
   "metadata": {},
   "outputs": [],
   "source": [
    "df_neutor = pd.read_csv('/Users/danielzellner/Documents/Studium/Bachelorthesis/src/verkehr_data/df_neutor.csv')"
   ]
  },
  {
   "cell_type": "code",
   "execution_count": 16,
   "metadata": {},
   "outputs": [],
   "source": [
    "df_neutor['Semesterferien'] = 0\n",
    "df_neutor.loc[df_neutor['Datum'].isin(result_df['Datum']), 'Semesterferien'] = 1"
   ]
  },
  {
   "cell_type": "code",
   "execution_count": 19,
   "metadata": {},
   "outputs": [
    {
     "name": "stdout",
     "output_type": "stream",
     "text": [
      "object\n"
     ]
    }
   ],
   "source": [
    "df_neutor.reset_index(drop=True, inplace=True)\n",
    "df_neutor\n",
    "print(df_neutor['Datum'].dtype)"
   ]
  },
  {
   "cell_type": "code",
   "execution_count": 18,
   "metadata": {},
   "outputs": [
    {
     "name": "stdout",
     "output_type": "stream",
     "text": [
      "0\n"
     ]
    }
   ],
   "source": [
    "anzahl_einsen = df_neutor[\"Semesterferien\"].sum()\n",
    "\n",
    "print(anzahl_einsen)"
   ]
  },
  {
   "cell_type": "code",
   "execution_count": null,
   "metadata": {},
   "outputs": [],
   "source": []
  }
 ],
 "metadata": {
  "kernelspec": {
   "display_name": "venv",
   "language": "python",
   "name": "python3"
  },
  "language_info": {
   "codemirror_mode": {
    "name": "ipython",
    "version": 3
   },
   "file_extension": ".py",
   "mimetype": "text/x-python",
   "name": "python",
   "nbconvert_exporter": "python",
   "pygments_lexer": "ipython3",
   "version": "3.9.7"
  },
  "orig_nbformat": 4
 },
 "nbformat": 4,
 "nbformat_minor": 2
}
